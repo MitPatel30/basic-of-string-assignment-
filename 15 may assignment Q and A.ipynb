{
 "cells": [
  {
   "cell_type": "markdown",
   "id": "307ebe96",
   "metadata": {},
   "source": [
    "s = \"this is My First Python programming class and i am learNING python string and its function\"\n",
    "1 . Try to extract data from index one to index 300 with a jump of 3 \n",
    "2. Try to reverse a string without using reverse function \n",
    "3. Try to split a string after conversion of entire string in uppercase \n",
    "4. try to convert the whole string into lower case \n",
    "5 . Try to capitalize the whole string \n",
    "6 . Write a diference between isalnum() and isalpha()\n",
    "7. Try to give an example of expand tab\n",
    "8 . Give an example of strip , lstrip and rstrip \n",
    "9.  Replace a string charecter by another charector by taking your own example \n",
    "\"sudhanshu\"\n",
    "10 . Try  to give a defination of string center function with and exmple \n",
    "11 . Write your own definition of compiler and interpretor without copy paste form internet in your own language\n",
    "12 . Python is a interpreted of compiled language give a clear ans with your understanding \n",
    "13 . Try to write a usecase of python with your understanding ."
   ]
  },
  {
   "cell_type": "code",
   "execution_count": 1,
   "id": "b646f78b",
   "metadata": {},
   "outputs": [],
   "source": [
    "s = \"this is My First Python programming class and i am learNING python string and its function\""
   ]
  },
  {
   "cell_type": "code",
   "execution_count": 2,
   "id": "2c913951",
   "metadata": {},
   "outputs": [
    {
     "data": {
      "text/plain": [
       "'this is My First Python programming class and i am learNING python string and its function'"
      ]
     },
     "execution_count": 2,
     "metadata": {},
     "output_type": "execute_result"
    }
   ],
   "source": [
    "s"
   ]
  },
  {
   "cell_type": "markdown",
   "id": "7f3a734e",
   "metadata": {},
   "source": [
    "1 . Try to extract data from index one to index 300 with a jump of 3 "
   ]
  },
  {
   "cell_type": "code",
   "execution_count": 3,
   "id": "58e057b4",
   "metadata": {},
   "outputs": [
    {
     "data": {
      "text/plain": [
       "'h   r tnrrmglsnimeNGyosi dtfco'"
      ]
     },
     "execution_count": 3,
     "metadata": {},
     "output_type": "execute_result"
    }
   ],
   "source": [
    "s[1:300:3]"
   ]
  },
  {
   "cell_type": "markdown",
   "id": "3669f79d",
   "metadata": {},
   "source": [
    "2. Try to reverse a string without using reverse function"
   ]
  },
  {
   "cell_type": "code",
   "execution_count": 4,
   "id": "abb763b2",
   "metadata": {},
   "outputs": [
    {
     "data": {
      "text/plain": [
       "'noitcnuf sti dna gnirts nohtyp GNINrael ma i dna ssalc gnimmargorp nohtyP tsriF yM si siht'"
      ]
     },
     "execution_count": 4,
     "metadata": {},
     "output_type": "execute_result"
    }
   ],
   "source": [
    "s[::-1]"
   ]
  },
  {
   "cell_type": "markdown",
   "id": "05e14473",
   "metadata": {},
   "source": [
    "3. Try to split a string after conversion of entire string in uppercase \n"
   ]
  },
  {
   "cell_type": "code",
   "execution_count": 5,
   "id": "2bdc4304",
   "metadata": {},
   "outputs": [
    {
     "data": {
      "text/plain": [
       "'THIS IS MY FIRST PYTHON PROGRAMMING CLASS AND I AM LEARNING PYTHON STRING AND ITS FUNCTION'"
      ]
     },
     "execution_count": 5,
     "metadata": {},
     "output_type": "execute_result"
    }
   ],
   "source": [
    "s.upper()"
   ]
  },
  {
   "cell_type": "code",
   "execution_count": 6,
   "id": "2e48ac8b",
   "metadata": {},
   "outputs": [
    {
     "data": {
      "text/plain": [
       "['this',\n",
       " 'is',\n",
       " 'My',\n",
       " 'First',\n",
       " 'Python',\n",
       " 'programming',\n",
       " 'class',\n",
       " 'and',\n",
       " 'i',\n",
       " 'am',\n",
       " 'learNING',\n",
       " 'python',\n",
       " 'string',\n",
       " 'and',\n",
       " 'its',\n",
       " 'function']"
      ]
     },
     "execution_count": 6,
     "metadata": {},
     "output_type": "execute_result"
    }
   ],
   "source": [
    "s.split()"
   ]
  },
  {
   "cell_type": "markdown",
   "id": "98194df8",
   "metadata": {},
   "source": [
    "4. try to convert the whole string into lower case \n"
   ]
  },
  {
   "cell_type": "code",
   "execution_count": 7,
   "id": "22a10cf7",
   "metadata": {},
   "outputs": [
    {
     "data": {
      "text/plain": [
       "'this is my first python programming class and i am learning python string and its function'"
      ]
     },
     "execution_count": 7,
     "metadata": {},
     "output_type": "execute_result"
    }
   ],
   "source": [
    "s.lower()"
   ]
  },
  {
   "cell_type": "markdown",
   "id": "01d10412",
   "metadata": {},
   "source": [
    "5 . Try to capitalize the whole string \n"
   ]
  },
  {
   "cell_type": "code",
   "execution_count": 11,
   "id": "481355de",
   "metadata": {},
   "outputs": [
    {
     "data": {
      "text/plain": [
       "'This is my first python programming class and i am learning python string and its function'"
      ]
     },
     "execution_count": 11,
     "metadata": {},
     "output_type": "execute_result"
    }
   ],
   "source": [
    "s.capitalize()"
   ]
  },
  {
   "cell_type": "markdown",
   "id": "e7c10282",
   "metadata": {},
   "source": [
    "6 . Write a diference between isalnum() and isalpha()\n"
   ]
  },
  {
   "cell_type": "code",
   "execution_count": 12,
   "id": "a1bdc4a2",
   "metadata": {},
   "outputs": [
    {
     "data": {
      "text/plain": [
       "False"
      ]
     },
     "execution_count": 12,
     "metadata": {},
     "output_type": "execute_result"
    }
   ],
   "source": [
    "s.isalnum()"
   ]
  },
  {
   "cell_type": "markdown",
   "id": "956c3889",
   "metadata": {},
   "source": [
    "check if the string has alphbets OR Numeric value we have aplhabets but space is also there hence false"
   ]
  },
  {
   "cell_type": "code",
   "execution_count": 13,
   "id": "634168f9",
   "metadata": {},
   "outputs": [
    {
     "data": {
      "text/plain": [
       "False"
      ]
     },
     "execution_count": 13,
     "metadata": {},
     "output_type": "execute_result"
    }
   ],
   "source": [
    "s.isalpha()"
   ]
  },
  {
   "cell_type": "markdown",
   "id": "6d3dc512",
   "metadata": {},
   "source": [
    "check if the string has all numberic value this is false as we have space in the srting data set"
   ]
  },
  {
   "cell_type": "markdown",
   "id": "f74bd1b2",
   "metadata": {},
   "source": [
    "7. Try to give an example of expand tab\n"
   ]
  },
  {
   "cell_type": "code",
   "execution_count": 17,
   "id": "4aa84c86",
   "metadata": {},
   "outputs": [],
   "source": [
    "s1 =\" i\\tam\\tlearning\\tpython\""
   ]
  },
  {
   "cell_type": "code",
   "execution_count": 15,
   "id": "33471543",
   "metadata": {},
   "outputs": [
    {
     "data": {
      "text/plain": [
       "' i\\tam\\tlearning\\\\python'"
      ]
     },
     "execution_count": 15,
     "metadata": {},
     "output_type": "execute_result"
    }
   ],
   "source": [
    "s1"
   ]
  },
  {
   "cell_type": "code",
   "execution_count": 18,
   "id": "293133b5",
   "metadata": {},
   "outputs": [
    {
     "data": {
      "text/plain": [
       "' i      am      learning        python'"
      ]
     },
     "execution_count": 18,
     "metadata": {},
     "output_type": "execute_result"
    }
   ],
   "source": [
    "s1.expandtabs()"
   ]
  },
  {
   "cell_type": "markdown",
   "id": "2cdc0d1f",
   "metadata": {},
   "source": [
    "8 . Give an example of strip , lstrip and rstrip \n"
   ]
  },
  {
   "cell_type": "code",
   "execution_count": 30,
   "id": "ba711f46",
   "metadata": {},
   "outputs": [],
   "source": [
    "s2=\"@@@@@i want to become a successfull data scientist@@@@@\"\n",
    "    \n",
    "    "
   ]
  },
  {
   "cell_type": "code",
   "execution_count": 31,
   "id": "e937952f",
   "metadata": {},
   "outputs": [
    {
     "data": {
      "text/plain": [
       "'i want to become a successfull data scientist'"
      ]
     },
     "execution_count": 31,
     "metadata": {},
     "output_type": "execute_result"
    }
   ],
   "source": [
    "s2.strip(\"@ \")"
   ]
  },
  {
   "cell_type": "code",
   "execution_count": 32,
   "id": "76f18f3a",
   "metadata": {},
   "outputs": [
    {
     "data": {
      "text/plain": [
       "str"
      ]
     },
     "execution_count": 32,
     "metadata": {},
     "output_type": "execute_result"
    }
   ],
   "source": [
    "type(s2)"
   ]
  },
  {
   "cell_type": "code",
   "execution_count": 33,
   "id": "d222fd56",
   "metadata": {},
   "outputs": [],
   "source": [
    "s3=\"           I am happy\""
   ]
  },
  {
   "cell_type": "code",
   "execution_count": 34,
   "id": "00e6873e",
   "metadata": {},
   "outputs": [
    {
     "data": {
      "text/plain": [
       "'           I am happy'"
      ]
     },
     "execution_count": 34,
     "metadata": {},
     "output_type": "execute_result"
    }
   ],
   "source": [
    "s3"
   ]
  },
  {
   "cell_type": "code",
   "execution_count": 35,
   "id": "ddaf4635",
   "metadata": {},
   "outputs": [
    {
     "data": {
      "text/plain": [
       "'I am happy'"
      ]
     },
     "execution_count": 35,
     "metadata": {},
     "output_type": "execute_result"
    }
   ],
   "source": [
    "s3.lstrip(\" \")"
   ]
  },
  {
   "cell_type": "code",
   "execution_count": 36,
   "id": "8d7665b3",
   "metadata": {},
   "outputs": [],
   "source": [
    "s4=\"####### i would do a successfully transition in data science#######\""
   ]
  },
  {
   "cell_type": "code",
   "execution_count": 37,
   "id": "785168c7",
   "metadata": {},
   "outputs": [
    {
     "data": {
      "text/plain": [
       "'####### i would do a successfully transition in data science#######'"
      ]
     },
     "execution_count": 37,
     "metadata": {},
     "output_type": "execute_result"
    }
   ],
   "source": [
    "s4"
   ]
  },
  {
   "cell_type": "code",
   "execution_count": 39,
   "id": "18218b25",
   "metadata": {},
   "outputs": [
    {
     "data": {
      "text/plain": [
       "'####### i would do a successfully transition in data science'"
      ]
     },
     "execution_count": 39,
     "metadata": {},
     "output_type": "execute_result"
    }
   ],
   "source": [
    "s4.rstrip(\"#\")"
   ]
  },
  {
   "cell_type": "markdown",
   "id": "336937ac",
   "metadata": {},
   "source": [
    "9.  Replace a string charecter by another charector by taking your own example \n"
   ]
  },
  {
   "cell_type": "code",
   "execution_count": 40,
   "id": "3491555f",
   "metadata": {},
   "outputs": [],
   "source": [
    "s5=\" have a good day\""
   ]
  },
  {
   "cell_type": "code",
   "execution_count": 41,
   "id": "a737a0aa",
   "metadata": {},
   "outputs": [
    {
     "data": {
      "text/plain": [
       "' have a good day'"
      ]
     },
     "execution_count": 41,
     "metadata": {},
     "output_type": "execute_result"
    }
   ],
   "source": [
    "s5"
   ]
  },
  {
   "cell_type": "code",
   "execution_count": 42,
   "id": "ed0f225c",
   "metadata": {},
   "outputs": [
    {
     "data": {
      "text/plain": [
       "' h@ve @ good d@y'"
      ]
     },
     "execution_count": 42,
     "metadata": {},
     "output_type": "execute_result"
    }
   ],
   "source": [
    "s5.replace(\"a\",\"@\")"
   ]
  },
  {
   "cell_type": "markdown",
   "id": "8a3c687e",
   "metadata": {},
   "source": [
    "10 . Try  to give a defination of string center function with and exmple \n"
   ]
  },
  {
   "cell_type": "code",
   "execution_count": 43,
   "id": "b09eadc9",
   "metadata": {},
   "outputs": [],
   "source": [
    "s6=\"hello world\""
   ]
  },
  {
   "cell_type": "code",
   "execution_count": 44,
   "id": "6cc11cc8",
   "metadata": {},
   "outputs": [
    {
     "data": {
      "text/plain": [
       "'hello world'"
      ]
     },
     "execution_count": 44,
     "metadata": {},
     "output_type": "execute_result"
    }
   ],
   "source": [
    "s6"
   ]
  },
  {
   "cell_type": "code",
   "execution_count": 50,
   "id": "ed88b912",
   "metadata": {},
   "outputs": [
    {
     "data": {
      "text/plain": [
       "'@@@@hello world@@@@@'"
      ]
     },
     "execution_count": 50,
     "metadata": {},
     "output_type": "execute_result"
    }
   ],
   "source": [
    "s6.center(20,\"@\")"
   ]
  },
  {
   "cell_type": "markdown",
   "id": "4b29e55b",
   "metadata": {},
   "source": [
    "center function takes the string data set into the center of the length provided in the funvtion"
   ]
  },
  {
   "cell_type": "markdown",
   "id": "9ad1515d",
   "metadata": {},
   "source": [
    "11 . Write your own definition of compiler and interpretor without copy paste form internet in your own language\n",
    "\n",
    "ANS: Interpreter:checks the program line by line and shows an error immeditely hence memory efficent\n",
    "Compiler: check the entire code and thhen provides and errorr hence not memory efficent\n"
   ]
  },
  {
   "cell_type": "markdown",
   "id": "4d8b5d88",
   "metadata": {},
   "source": [
    "12 . Python is a interpreted of compiled language give a clear ans with your understanding \n",
    "ANS: As an interpreter takes less memory to run the code and provide and Phython being a interpreter type of language it is more efficent then other languages like C/C++,etc.\n"
   ]
  },
  {
   "cell_type": "markdown",
   "id": "5392846c",
   "metadata": {},
   "source": [
    "13 . Try to write a usecase of python with your understanding .\n",
    "ANS: By using phython and its various availbe libraries we can crate a route optimization tool for last mile deliveries and hyperlocal models.\n",
    "we can try to increase the revenue for delivery executive by provding multiple task in the same route therefore creating profits both for the company and teh executives."
   ]
  }
 ],
 "metadata": {
  "kernelspec": {
   "display_name": "Python 3 (ipykernel)",
   "language": "python",
   "name": "python3"
  },
  "language_info": {
   "codemirror_mode": {
    "name": "ipython",
    "version": 3
   },
   "file_extension": ".py",
   "mimetype": "text/x-python",
   "name": "python",
   "nbconvert_exporter": "python",
   "pygments_lexer": "ipython3",
   "version": "3.9.12"
  }
 },
 "nbformat": 4,
 "nbformat_minor": 5
}
